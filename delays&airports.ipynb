{
 "cells": [
  {
   "cell_type": "code",
   "execution_count": 1,
   "metadata": {
    "collapsed": true
   },
   "outputs": [],
   "source": [
    "import pandas as pd\n",
    "import numpy as np\n",
    "import matplotlib.pyplot as plt\n",
    "%matplotlib inline"
   ]
  },
  {
   "cell_type": "code",
   "execution_count": 2,
   "metadata": {
    "collapsed": true
   },
   "outputs": [],
   "source": [
    "pd.set_option('display.max_columns', 30)\n",
    "pd.set_option('display.max_rows', 4000)"
   ]
  },
  {
   "cell_type": "code",
   "execution_count": 3,
   "metadata": {},
   "outputs": [
    {
     "data": {
      "text/html": [
       "<div>\n",
       "<style>\n",
       "    .dataframe thead tr:only-child th {\n",
       "        text-align: right;\n",
       "    }\n",
       "\n",
       "    .dataframe thead th {\n",
       "        text-align: left;\n",
       "    }\n",
       "\n",
       "    .dataframe tbody tr th {\n",
       "        vertical-align: top;\n",
       "    }\n",
       "</style>\n",
       "<table border=\"1\" class=\"dataframe\">\n",
       "  <thead>\n",
       "    <tr style=\"text-align: right;\">\n",
       "      <th></th>\n",
       "      <th>year</th>\n",
       "      <th>month</th>\n",
       "      <th>carrier</th>\n",
       "      <th>depAirport</th>\n",
       "      <th>totalFlights</th>\n",
       "      <th>totalDelayedFlights</th>\n",
       "      <th>totalDelay</th>\n",
       "      <th>airport</th>\n",
       "      <th>city</th>\n",
       "      <th>state</th>\n",
       "      <th>lat</th>\n",
       "      <th>long</th>\n",
       "    </tr>\n",
       "  </thead>\n",
       "  <tbody>\n",
       "    <tr>\n",
       "      <th>0</th>\n",
       "      <td>2008</td>\n",
       "      <td>8</td>\n",
       "      <td>Delta Airlines Inc. (DL)</td>\n",
       "      <td>FAI</td>\n",
       "      <td>17</td>\n",
       "      <td>8</td>\n",
       "      <td>112</td>\n",
       "      <td>Fairbanks International</td>\n",
       "      <td>Fairbanks</td>\n",
       "      <td>AK</td>\n",
       "      <td>64.813677</td>\n",
       "      <td>-147.859669</td>\n",
       "    </tr>\n",
       "    <tr>\n",
       "      <th>1</th>\n",
       "      <td>2008</td>\n",
       "      <td>2</td>\n",
       "      <td>Alaska Airlines Inc. (AS)</td>\n",
       "      <td>FAI</td>\n",
       "      <td>365</td>\n",
       "      <td>86</td>\n",
       "      <td>3409</td>\n",
       "      <td>Fairbanks International</td>\n",
       "      <td>Fairbanks</td>\n",
       "      <td>AK</td>\n",
       "      <td>64.813677</td>\n",
       "      <td>-147.859669</td>\n",
       "    </tr>\n",
       "    <tr>\n",
       "      <th>2</th>\n",
       "      <td>1998</td>\n",
       "      <td>3</td>\n",
       "      <td>Delta Airlines Inc. (DL)</td>\n",
       "      <td>FAI</td>\n",
       "      <td>61</td>\n",
       "      <td>16</td>\n",
       "      <td>168</td>\n",
       "      <td>Fairbanks International</td>\n",
       "      <td>Fairbanks</td>\n",
       "      <td>AK</td>\n",
       "      <td>64.813677</td>\n",
       "      <td>-147.859669</td>\n",
       "    </tr>\n",
       "    <tr>\n",
       "      <th>3</th>\n",
       "      <td>2008</td>\n",
       "      <td>5</td>\n",
       "      <td>Northwest Airlines Inc. (NW)</td>\n",
       "      <td>FAI</td>\n",
       "      <td>22</td>\n",
       "      <td>7</td>\n",
       "      <td>286</td>\n",
       "      <td>Fairbanks International</td>\n",
       "      <td>Fairbanks</td>\n",
       "      <td>AK</td>\n",
       "      <td>64.813677</td>\n",
       "      <td>-147.859669</td>\n",
       "    </tr>\n",
       "    <tr>\n",
       "      <th>4</th>\n",
       "      <td>1997</td>\n",
       "      <td>5</td>\n",
       "      <td>Alaska Airlines Inc. (AS)</td>\n",
       "      <td>FAI</td>\n",
       "      <td>350</td>\n",
       "      <td>70</td>\n",
       "      <td>2021</td>\n",
       "      <td>Fairbanks International</td>\n",
       "      <td>Fairbanks</td>\n",
       "      <td>AK</td>\n",
       "      <td>64.813677</td>\n",
       "      <td>-147.859669</td>\n",
       "    </tr>\n",
       "  </tbody>\n",
       "</table>\n",
       "</div>"
      ],
      "text/plain": [
       "   year  month                       carrier depAirport  totalFlights  \\\n",
       "0  2008      8      Delta Airlines Inc. (DL)        FAI            17   \n",
       "1  2008      2     Alaska Airlines Inc. (AS)        FAI           365   \n",
       "2  1998      3      Delta Airlines Inc. (DL)        FAI            61   \n",
       "3  2008      5  Northwest Airlines Inc. (NW)        FAI            22   \n",
       "4  1997      5     Alaska Airlines Inc. (AS)        FAI           350   \n",
       "\n",
       "   totalDelayedFlights  totalDelay                  airport       city state  \\\n",
       "0                    8         112  Fairbanks International  Fairbanks    AK   \n",
       "1                   86        3409  Fairbanks International  Fairbanks    AK   \n",
       "2                   16         168  Fairbanks International  Fairbanks    AK   \n",
       "3                    7         286  Fairbanks International  Fairbanks    AK   \n",
       "4                   70        2021  Fairbanks International  Fairbanks    AK   \n",
       "\n",
       "         lat        long  \n",
       "0  64.813677 -147.859669  \n",
       "1  64.813677 -147.859669  \n",
       "2  64.813677 -147.859669  \n",
       "3  64.813677 -147.859669  \n",
       "4  64.813677 -147.859669  "
      ]
     },
     "execution_count": 3,
     "metadata": {},
     "output_type": "execute_result"
    }
   ],
   "source": [
    "data = pd.read_csv(\"data/delaysAirports.csv\", sep=\",\")\n",
    "data.head(5)"
   ]
  },
  {
   "cell_type": "code",
   "execution_count": 4,
   "metadata": {},
   "outputs": [
    {
     "data": {
      "text/plain": [
       "array(['FAI', 'LWS', 'LAX', 'LRD', 'HRL', 'CHS', 'TPA', 'ORF', 'PDX',\n",
       "       'PIT', 'ATL', 'JAX', 'DAB', 'FSD', 'SRQ', 'BHM', 'BDL', 'MSP',\n",
       "       'CMH', 'LAS', 'BUF', 'SAT', 'SNA', 'ORD', 'MIA', 'GSO', 'RNO',\n",
       "       'GRR', 'ABE', 'FLL', 'DAL', 'RSW', 'MCI', 'LWB', 'HNL', 'CLE',\n",
       "       'BZN', 'OKC', 'TUL', 'SIT', 'MBS', 'IND', 'DCA', 'STL', 'OMA',\n",
       "       'BOS', 'EWR', 'PNS', 'MKE', 'ANC', 'SWF', 'GTF', 'SBA', 'BOI',\n",
       "       'BIL', 'ABQ', 'FAY', 'SAN', 'SDF', 'RIC', 'ILM', 'ONT', 'IDA',\n",
       "       'SGU', 'ROA', 'HLN', 'SMF', 'MLU', 'CVG', 'MSN', 'HSV', 'DTW',\n",
       "       'SFO', 'PIA', 'MLB', 'GFK', 'TUS', 'SYR', 'LIT', 'PWM', 'TVL',\n",
       "       'FAT', 'MSY', 'ALB', 'TYS', 'EYW', 'FWA', 'OAK', 'FCA', 'MCO',\n",
       "       'OGG', 'HOU', 'RDU', 'LGA', 'SEA', 'GPT', 'CID', 'MCN', 'PHX',\n",
       "       'ICT', 'MAF', 'GRB', 'AZO', 'HPN', 'JNU', 'DFW', 'PBI', 'BWI',\n",
       "       'IAD', 'XNA', 'PVD', 'BIS', 'PSP', 'LEX', 'HDN', 'CAE', 'SJU',\n",
       "       'BUR', 'PHL', 'TRI', 'MDW', 'STX', 'BNA', 'DRO', 'LGB', 'CLT',\n",
       "       'EVV', 'STT', 'SJC', 'ILE', 'BTV', 'WRG', 'SLC', 'MYR', 'TLH',\n",
       "       'JAN', 'GSP', 'RAP', 'COS', 'ROC', 'AMA', 'DEN', 'SAV', 'LBB',\n",
       "       'AVL', 'SMX', 'DSM', 'PHF', 'IAH', 'MGM', 'TVC', 'AUS', 'EUG',\n",
       "       'MEM', 'ORH', 'FAR', 'OAJ', 'HVN', 'BTM', 'JFK', 'MDT', 'JAC',\n",
       "       'SPI', 'MOT', 'DET', 'CRP', 'MEI', 'CDC', 'ISP', 'EGE', 'GRK',\n",
       "       'DLH', 'CMX', 'BRW', 'ELP', 'CHA', 'MHT', 'MOB', 'DAY', 'SUX',\n",
       "       'BGR', 'CHO', 'BRO', 'GEG', 'GST', 'LAN', 'AKN', 'CAK', 'AVP',\n",
       "       'SCC', 'RST', 'PFN', 'LSE', 'ATW', 'CMI', 'FSM', 'AGS', 'SGF',\n",
       "       'TXK', 'LIH', 'PSG', 'BLI', 'HTS', 'BQN', 'AEX', 'LNK', 'MQT',\n",
       "       'DUT', 'DLG', 'SHV', 'ACY', 'KOA', 'PIE', 'SBN', 'CPR', 'BGM',\n",
       "       'ABY', 'MRY', 'SJT', 'OXR', 'CWA', 'ACT', 'GUC', 'BFL', 'OME',\n",
       "       'TYR', 'CIC', 'PSC', 'FNT', 'ERI', 'SCE', 'BPT', 'EWN', 'TWF',\n",
       "       'PSE', 'VPS', 'ROW', 'BTR', 'ISO', 'MTJ', 'LCH', 'ACK', 'BMI',\n",
       "       'MSO', 'CLD', 'PIH', 'LFT', 'TOL', 'MFR', 'KTN', 'BET', 'CDV',\n",
       "       'ITO', 'MLI', 'GJT', 'GNV', 'MOD', 'YUM', 'EFD', 'MFE', 'KSM',\n",
       "       'OTZ', 'LAW', 'YAK', 'FLG', 'GCN', 'GTR', 'RDD', 'PUB', 'CEC',\n",
       "       'ELM', 'CLL', 'ABI', 'LYH', 'ROP', 'PMD', 'CCR', 'ALO', 'SBP',\n",
       "       'SPN', 'BQK', 'SCK', 'DBQ', 'GGG', 'CRW', 'FLO', 'ROR', 'DHN',\n",
       "       'ITH', 'COD', 'IPL', 'RDM', 'SPS', 'VIS', 'APF', 'UCA', 'ADQ',\n",
       "       'YAP', 'LNY', 'SOP', 'SUN', 'GUM', 'VCT', 'GCC', 'VLD', 'WYS',\n",
       "       'IYK', 'EKO', 'CSG', 'BJI', 'EAU', 'ADK', 'ACV', 'ANI', 'RKS',\n",
       "       'YKM', 'MTH', 'SLE', 'CYS', 'HHH', 'RDR', 'ASE', 'CKB', 'ILG',\n",
       "       'RHI', 'INL', 'TEX', 'MKK', 'PIR', 'LMT', 'OTH', 'BFI', 'MKG',\n",
       "       'TUP', 'RFD', 'TTN', 'PLN', 'HKY', 'FMN', 'FOE', 'PVU', 'OGD',\n",
       "       'MAZ', 'MIB', 'GLH', 'BFF', 'MKC'], dtype=object)"
      ]
     },
     "execution_count": 4,
     "metadata": {},
     "output_type": "execute_result"
    }
   ],
   "source": [
    "data.depAirport.unique()"
   ]
  },
  {
   "cell_type": "code",
   "execution_count": null,
   "metadata": {
    "collapsed": true
   },
   "outputs": [],
   "source": []
  }
 ],
 "metadata": {
  "kernelspec": {
   "display_name": "Python 2",
   "language": "python",
   "name": "python2"
  },
  "language_info": {
   "codemirror_mode": {
    "name": "ipython",
    "version": 2
   },
   "file_extension": ".py",
   "mimetype": "text/x-python",
   "name": "python",
   "nbconvert_exporter": "python",
   "pygments_lexer": "ipython2",
   "version": "2.7.12"
  }
 },
 "nbformat": 4,
 "nbformat_minor": 2
}
