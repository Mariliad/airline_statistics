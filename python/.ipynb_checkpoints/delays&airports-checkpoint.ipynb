{
 "cells": [
  {
   "cell_type": "code",
   "execution_count": 1,
   "metadata": {
    "collapsed": true
   },
   "outputs": [],
   "source": [
    "import pandas as pd\n",
    "import numpy as np\n",
    "import matplotlib.pyplot as plt\n",
    "%matplotlib inline"
   ]
  },
  {
   "cell_type": "code",
   "execution_count": 2,
   "metadata": {
    "collapsed": true
   },
   "outputs": [],
   "source": [
    "pd.set_option('display.max_columns', 30)\n",
    "pd.set_option('display.max_rows', 4000)"
   ]
  },
  {
   "cell_type": "code",
   "execution_count": 3,
   "metadata": {},
   "outputs": [
    {
     "data": {
      "text/html": [
       "<div>\n",
       "<style>\n",
       "    .dataframe thead tr:only-child th {\n",
       "        text-align: right;\n",
       "    }\n",
       "\n",
       "    .dataframe thead th {\n",
       "        text-align: left;\n",
       "    }\n",
       "\n",
       "    .dataframe tbody tr th {\n",
       "        vertical-align: top;\n",
       "    }\n",
       "</style>\n",
       "<table border=\"1\" class=\"dataframe\">\n",
       "  <thead>\n",
       "    <tr style=\"text-align: right;\">\n",
       "      <th></th>\n",
       "      <th>year</th>\n",
       "      <th>month</th>\n",
       "      <th>carrier</th>\n",
       "      <th>depAirport</th>\n",
       "      <th>totalFlights</th>\n",
       "      <th>totalDelayedFlights</th>\n",
       "      <th>totalDelay</th>\n",
       "      <th>airport</th>\n",
       "      <th>city</th>\n",
       "      <th>state</th>\n",
       "      <th>lat</th>\n",
       "      <th>long</th>\n",
       "    </tr>\n",
       "  </thead>\n",
       "  <tbody>\n",
       "    <tr>\n",
       "      <th>0</th>\n",
       "      <td>2008</td>\n",
       "      <td>8</td>\n",
       "      <td>Delta Airlines Inc. (DL)</td>\n",
       "      <td>FAI</td>\n",
       "      <td>17</td>\n",
       "      <td>8</td>\n",
       "      <td>112</td>\n",
       "      <td>Fairbanks International</td>\n",
       "      <td>Fairbanks</td>\n",
       "      <td>AK</td>\n",
       "      <td>64.813677</td>\n",
       "      <td>-147.859669</td>\n",
       "    </tr>\n",
       "    <tr>\n",
       "      <th>1</th>\n",
       "      <td>2008</td>\n",
       "      <td>2</td>\n",
       "      <td>Alaska Airlines Inc. (AS)</td>\n",
       "      <td>FAI</td>\n",
       "      <td>365</td>\n",
       "      <td>86</td>\n",
       "      <td>3409</td>\n",
       "      <td>Fairbanks International</td>\n",
       "      <td>Fairbanks</td>\n",
       "      <td>AK</td>\n",
       "      <td>64.813677</td>\n",
       "      <td>-147.859669</td>\n",
       "    </tr>\n",
       "    <tr>\n",
       "      <th>2</th>\n",
       "      <td>1998</td>\n",
       "      <td>3</td>\n",
       "      <td>Delta Airlines Inc. (DL)</td>\n",
       "      <td>FAI</td>\n",
       "      <td>61</td>\n",
       "      <td>16</td>\n",
       "      <td>168</td>\n",
       "      <td>Fairbanks International</td>\n",
       "      <td>Fairbanks</td>\n",
       "      <td>AK</td>\n",
       "      <td>64.813677</td>\n",
       "      <td>-147.859669</td>\n",
       "    </tr>\n",
       "    <tr>\n",
       "      <th>3</th>\n",
       "      <td>2008</td>\n",
       "      <td>5</td>\n",
       "      <td>Northwest Airlines Inc. (NW)</td>\n",
       "      <td>FAI</td>\n",
       "      <td>22</td>\n",
       "      <td>7</td>\n",
       "      <td>286</td>\n",
       "      <td>Fairbanks International</td>\n",
       "      <td>Fairbanks</td>\n",
       "      <td>AK</td>\n",
       "      <td>64.813677</td>\n",
       "      <td>-147.859669</td>\n",
       "    </tr>\n",
       "    <tr>\n",
       "      <th>4</th>\n",
       "      <td>1997</td>\n",
       "      <td>5</td>\n",
       "      <td>Alaska Airlines Inc. (AS)</td>\n",
       "      <td>FAI</td>\n",
       "      <td>350</td>\n",
       "      <td>70</td>\n",
       "      <td>2021</td>\n",
       "      <td>Fairbanks International</td>\n",
       "      <td>Fairbanks</td>\n",
       "      <td>AK</td>\n",
       "      <td>64.813677</td>\n",
       "      <td>-147.859669</td>\n",
       "    </tr>\n",
       "  </tbody>\n",
       "</table>\n",
       "</div>"
      ],
      "text/plain": [
       "   year  month                       carrier depAirport  totalFlights  \\\n",
       "0  2008      8      Delta Airlines Inc. (DL)        FAI            17   \n",
       "1  2008      2     Alaska Airlines Inc. (AS)        FAI           365   \n",
       "2  1998      3      Delta Airlines Inc. (DL)        FAI            61   \n",
       "3  2008      5  Northwest Airlines Inc. (NW)        FAI            22   \n",
       "4  1997      5     Alaska Airlines Inc. (AS)        FAI           350   \n",
       "\n",
       "   totalDelayedFlights  totalDelay                  airport       city state  \\\n",
       "0                    8         112  Fairbanks International  Fairbanks    AK   \n",
       "1                   86        3409  Fairbanks International  Fairbanks    AK   \n",
       "2                   16         168  Fairbanks International  Fairbanks    AK   \n",
       "3                    7         286  Fairbanks International  Fairbanks    AK   \n",
       "4                   70        2021  Fairbanks International  Fairbanks    AK   \n",
       "\n",
       "         lat        long  \n",
       "0  64.813677 -147.859669  \n",
       "1  64.813677 -147.859669  \n",
       "2  64.813677 -147.859669  \n",
       "3  64.813677 -147.859669  \n",
       "4  64.813677 -147.859669  "
      ]
     },
     "execution_count": 3,
     "metadata": {},
     "output_type": "execute_result"
    }
   ],
   "source": [
    "data = pd.read_csv(\"data/delaysAirports.csv\", sep=\",\")\n",
    "data.head(5)"
   ]
  },
  {
   "cell_type": "code",
   "execution_count": 13,
   "metadata": {},
   "outputs": [
    {
     "data": {
      "text/plain": [
       "347"
      ]
     },
     "execution_count": 13,
     "metadata": {},
     "output_type": "execute_result"
    }
   ],
   "source": [
    "len(data.airport.unique())"
   ]
  },
  {
   "cell_type": "code",
   "execution_count": 14,
   "metadata": {
    "collapsed": true
   },
   "outputs": [],
   "source": [
    "airports = ['Lewiston-Nez Perce County','Los Angeles International', 'Laredo International','Valley International', 'Charleston AFB/International','Tampa International ', 'Norfolk International', 'Portland Intl','Pittsburgh International', 'William B Hartsfield-Atlanta Intl','Jacksonville International', 'Daytona Beach International','Joe Foss ', 'Sarasota Bradenton International','Birmingham International', 'Bradley International','Minneapolis-St Paul Intl', 'Port Columbus Intl','McCarran International', 'Buffalo Niagara Intl','San Antonio International', 'John Wayne /Orange Co',\"Chicago O'Hare International\", 'Miami International','Piedmont Triad International', 'Reno/Tahoe International','Kent County International', 'Lehigh Valley International',\"Fort Lauderdale-Hollywood Int'l\", 'Dallas Love ','Southwest Florida International', 'Kansas City International','Greenbrier Valley', 'Honolulu International','Cleveland-Hopkins Intl', 'Gallatin ', 'Will Rogers World','Tulsa International', 'Sitka', 'Mbs International','Indianapolis International', 'Ronald Reagan Washington National','Lambert-St Louis International', 'Eppley Airfield','Gen Edw L Logan Intl', 'Newark Intl', 'Pensacola Regional','General Mitchell International','Ted Stevens Anchorage International', 'Stewart','Great Falls Intl', 'Santa Barbara Municipal', 'Boise Air Terminal','Billings Logan Intl', 'Albuquerque International','Fayetteville Municipal', 'San Diego International-Lindbergh ','Louisville International-Standiford ', 'Richmond International','Wilmington International', 'Ontario International','Idaho Falls Regional', 'St George Muni','Roanoke Regional/ Woodrum ', 'Helena Regional','Sacramento International', 'Monroe Regional','Cincinnati Northern Kentucky Intl', 'Dane County Regional','Huntsville International ', 'Detroit Metropolitan-Wayne County','San Francisco International', 'Greater Peoria Regional','Melbourne International ', 'Grand Forks International','Tucson International', 'Syracuse-Hancock Intl', 'Adams ','Portland International Jetport', 'Lake Tahoe','Fresno Yosemite International', 'New Orleans International ','Albany Cty', 'McGhee-Tyson', 'Key West International','Fort Wayne International', 'Metropolitan Oakland International','Glacier Park Intl', 'Orlando International', 'Kahului','William P Hobby', 'Raleigh-Durham International', 'LaGuardia','Seattle-Tacoma Intl', 'Gulfport-Biloxi Regional', 'Eastern Iowa ','Middle Georgia Regional', 'Phoenix Sky Harbor International','Wichita Mid-Continent', 'Midland International','Austin Straubel International', 'Kalamazoo County','Westchester Cty', 'Juneau International','Dallas-Fort Worth International', 'Palm Beach International','Baltimore-Washington International','Washington Dulles International', 'Northwest Arkansas Regional','Theodore F Green State', 'Bismarck Municipal','Palm Springs International', 'Blue Grass ', 'Yampa Valley','Columbia Metropolitan', 'Luis Munoz Marin International','Burbank-Glendale-Pasadena', 'Philadelphia Intl','Tri-Cities Regional', 'Chicago Midway', 'Henry E. Rohlsen ','Nashville International', 'Durango-La Plata County','Long Beach (Daugherty )', 'Charlotte/Douglas International','Evansville Regional', 'Cyril E. King', 'San Jose International','Killeen Municipal', 'Burlington International', 'Wrangell','Salt Lake City Intl', 'Myrtle Beach International','Tallahassee Regional', 'Jackson International','Greenville-Spartanburg', 'Rapid City Regional','City of Colorado Springs Muni', \"Greater Rochester Int'l\",'Amarillo International', 'Denver Intl', 'Savannah International','Lubbock International', 'Asheville Regional','Santa Maria Pub/Capt G Allan Hancock ', 'Des Moines International','Newport News/Williamsburg International','George Bush Intercontinental', 'Montgomery Regional Apt','Cherry Capital', 'Austin-Bergstrom International', 'Mahlon Sweet ','Memphis International', 'Worcester Regional','Hector International', 'Albert J Ellis', 'Tweed-New Haven','Bert Mooney', 'John F Kennedy Intl', 'Harrisburg Intl','Jackson Hole', 'Capital', 'Minot International', 'Detroit City','Corpus Christi International', 'Key ', 'Cedar City Muni','Long Island - MacArthur', 'Eagle County Regional','Robert Gray AAF', 'Duluth International','Houghton County Memorial', 'Wiley Post Will Rogers Memorial','El Paso International', 'Lovell ', 'Manchester', 'Mobile Regional','James M Cox Dayton Intl', 'Sioux Gateway ', 'Bangor International','Charlottesville-Albermarle','Brownsville/S.Padre Island International', 'Spokane Intl','Gustavus', 'Capital City', 'King Salmon', 'Akron-Canton Regional','Wilkes-Barre/Scranton Intl', 'Deadhorse','Rochester International', 'Panama City-Bay County International','La Crosse Municipal', 'Outagamie County Regional','University of Illinois-Willard', 'Fort Smith Regional', 'Bush ','Springfield-Branson Regional', 'Texarkana Regional-Webb ', 'Lihue','James C. Johnson Petersburg', 'Bellingham Intl','Tri-State/Walker-Long ', 'Rafael Hernandez','Alexandria International', 'Lincoln Municipal','Marquette County Airport', 'Unalaska', 'Dillingham','Shreveport Regional', 'Atlantic City International','Kona International At Keahole','St. Petersburg-Clearwater International', 'South Bend Regional','Natrona County Intl', 'Binghamton Regional','Southwest Georgia Regional', 'Monterey Peninsula','San Angelo Regional /Mathis ', 'Oxnard', 'Central Wisconsin','Waco Regional', 'Gunnison County', 'Meadows ', 'Nome','Tyler Pounds ', 'Chico Municipal', 'Tri-Cities', 'Bishop','Erie Intl', 'University Park', 'Southeast Texas Regional','Craven County Regional', 'Joslin Field - Magic Valley','Mercedita', 'Eglin Air Force Base','Roswell Industrial Air Center', 'Baton Rouge Metropolitan, Ryan ','Kinston Regional Jetport At Stallin', 'Montrose Regional','Lake Charles Regional', 'Nantucket Memorial','Central Illinois Regional', 'Missoula International','MC Clellan-Palomar Airport', 'Pocatello Regional','Lafayette Regional', 'Toledo Express','Rogue Valley International', 'Ketchikan International', 'Bethel','Merle K (Mudhole) Smith', 'Hilo International', 'Quad City','Walker ', 'Gainesville Regional','Modesto City-County-Harry Sham ', 'Yuma MCAS-Yuma International','Ellington ', 'McAllen Miller International', \"St. Mary's\",'Ralph Wien Memorial', 'Lawton-Ft Sill Regional', 'Yakutat','Flagstaff Pulliam', 'Grand Canyon National Park','Golden Triangle Regional', 'Redding Municipal', 'Pueblo Memorial','Jack McNamara ', 'Elmira/Corning Regional', 'Easterwood ','Abilene Regional', 'Lynchburg Municipal-Preston Glenn ','Prachinburi', 'Palmdale Production Flight', 'Buchanan ','Waterloo Municipal', 'San Luis Obispo Co-McChesney ','Tinian International Airport', 'Glynco Jetport', 'Stockton Metro','Dubuque Municipal', 'Gregg County', 'Yeager', 'Florence Regional','Babelthoup/Koror', 'Dothan ', 'Tompkins Cty ','Yellowstone Regional', 'Imperial County', 'Roberts ','Sheppard AFB/Wichita Falls Municipal', 'Visalia Municipal','Naples Municipal', 'Oneida Cty', 'Kodiak ', 'Yap International','Lanai', 'Moore County', 'Friedman Memorial', 'Guam International','Victoria Regional', 'Gillette-Campbell County','Valdosta Regional', 'Yellowstone', 'Inyokern', 'Elko Regional','Columbus Metropolitan', 'Bemidji-Beltrami County','Chippewa Valley Regional', 'Adak', 'Arcata', 'Aniak','Rock Springs-Sweetwater County', 'Yakima Air Terminal','Florida Keys Marathon', 'McNary Fld', 'Cheyenne', 'Hilton Head','Grand Forks AFB', 'Aspen-Pitkin Co/Sardy ', 'Benedum','New Castle County ', 'Rhinelander-Oneida County','Falls International', 'Telluride Regional', 'Molokai','Pierre Regional', 'Klamath Falls International', 'North Bend Muni','Boeing Field/King County Intl', 'Muskegon County','Tupelo Municipal ', 'Greater Rockford', 'Trenton-Mercer County ','Pellston Regional  of Emmet County', 'Hickory Municipal','Four Corners Regional', 'Forbes ', 'Provo Muni', 'Ogden-Hinckley','Eugenio Maria De Hostos', 'Minot AFB', 'Mid Delta Regional','Scotts Bluff County', 'Downtown']"
   ]
  },
  {
   "cell_type": "code",
   "execution_count": 16,
   "metadata": {},
   "outputs": [
    {
     "data": {
      "text/html": [
       "<div>\n",
       "<style>\n",
       "    .dataframe thead tr:only-child th {\n",
       "        text-align: right;\n",
       "    }\n",
       "\n",
       "    .dataframe thead th {\n",
       "        text-align: left;\n",
       "    }\n",
       "\n",
       "    .dataframe tbody tr th {\n",
       "        vertical-align: top;\n",
       "    }\n",
       "</style>\n",
       "<table border=\"1\" class=\"dataframe\">\n",
       "  <thead>\n",
       "    <tr style=\"text-align: right;\">\n",
       "      <th></th>\n",
       "      <th>airport</th>\n",
       "      <th>lat</th>\n",
       "      <th>long</th>\n",
       "      <th>totalFlights</th>\n",
       "      <th>totalDelayedFlights</th>\n",
       "    </tr>\n",
       "  </thead>\n",
       "  <tbody>\n",
       "    <tr>\n",
       "      <th>0</th>\n",
       "      <td>Abilene Regional</td>\n",
       "      <td>32.411320</td>\n",
       "      <td>-99.681897</td>\n",
       "      <td>21202</td>\n",
       "      <td>4188</td>\n",
       "    </tr>\n",
       "    <tr>\n",
       "      <th>1</th>\n",
       "      <td>Adak</td>\n",
       "      <td>51.877964</td>\n",
       "      <td>-176.646031</td>\n",
       "      <td>541</td>\n",
       "      <td>338</td>\n",
       "    </tr>\n",
       "    <tr>\n",
       "      <th>2</th>\n",
       "      <td>Adams</td>\n",
       "      <td>34.729396</td>\n",
       "      <td>-92.224246</td>\n",
       "      <td>325288</td>\n",
       "      <td>107199</td>\n",
       "    </tr>\n",
       "    <tr>\n",
       "      <th>3</th>\n",
       "      <td>Akron-Canton Regional</td>\n",
       "      <td>40.916312</td>\n",
       "      <td>-81.442466</td>\n",
       "      <td>78926</td>\n",
       "      <td>24224</td>\n",
       "    </tr>\n",
       "    <tr>\n",
       "      <th>4</th>\n",
       "      <td>Albany Cty</td>\n",
       "      <td>42.748119</td>\n",
       "      <td>-73.802979</td>\n",
       "      <td>287140</td>\n",
       "      <td>108064</td>\n",
       "    </tr>\n",
       "  </tbody>\n",
       "</table>\n",
       "</div>"
      ],
      "text/plain": [
       "                 airport        lat        long  totalFlights  \\\n",
       "0       Abilene Regional  32.411320  -99.681897         21202   \n",
       "1                   Adak  51.877964 -176.646031           541   \n",
       "2                 Adams   34.729396  -92.224246        325288   \n",
       "3  Akron-Canton Regional  40.916312  -81.442466         78926   \n",
       "4             Albany Cty  42.748119  -73.802979        287140   \n",
       "\n",
       "   totalDelayedFlights  \n",
       "0                 4188  \n",
       "1                  338  \n",
       "2               107199  \n",
       "3                24224  \n",
       "4               108064  "
      ]
     },
     "execution_count": 16,
     "metadata": {},
     "output_type": "execute_result"
    }
   ],
   "source": [
    "sz = data.groupby(['airport', 'lat', 'long'])['totalFlights', 'totalDelayedFlights'].sum()\n",
    "sz = sz.reset_index()\n",
    "sz.head(5)"
   ]
  },
  {
   "cell_type": "code",
   "execution_count": 20,
   "metadata": {},
   "outputs": [
    {
     "data": {
      "text/html": [
       "<div>\n",
       "<style>\n",
       "    .dataframe thead tr:only-child th {\n",
       "        text-align: right;\n",
       "    }\n",
       "\n",
       "    .dataframe thead th {\n",
       "        text-align: left;\n",
       "    }\n",
       "\n",
       "    .dataframe tbody tr th {\n",
       "        vertical-align: top;\n",
       "    }\n",
       "</style>\n",
       "<table border=\"1\" class=\"dataframe\">\n",
       "  <thead>\n",
       "    <tr style=\"text-align: right;\">\n",
       "      <th></th>\n",
       "      <th>airport</th>\n",
       "      <th>lat</th>\n",
       "      <th>long</th>\n",
       "      <th>totalFlights</th>\n",
       "      <th>totalDelayedFlights</th>\n",
       "      <th>delayedFlightsPercentage</th>\n",
       "    </tr>\n",
       "  </thead>\n",
       "  <tbody>\n",
       "    <tr>\n",
       "      <th>0</th>\n",
       "      <td>Abilene Regional</td>\n",
       "      <td>32.411320</td>\n",
       "      <td>-99.681897</td>\n",
       "      <td>21202</td>\n",
       "      <td>4188</td>\n",
       "      <td>0.197529</td>\n",
       "    </tr>\n",
       "    <tr>\n",
       "      <th>1</th>\n",
       "      <td>Adak</td>\n",
       "      <td>51.877964</td>\n",
       "      <td>-176.646031</td>\n",
       "      <td>541</td>\n",
       "      <td>338</td>\n",
       "      <td>0.624769</td>\n",
       "    </tr>\n",
       "    <tr>\n",
       "      <th>2</th>\n",
       "      <td>Adams</td>\n",
       "      <td>34.729396</td>\n",
       "      <td>-92.224246</td>\n",
       "      <td>325288</td>\n",
       "      <td>107199</td>\n",
       "      <td>0.329551</td>\n",
       "    </tr>\n",
       "    <tr>\n",
       "      <th>3</th>\n",
       "      <td>Akron-Canton Regional</td>\n",
       "      <td>40.916312</td>\n",
       "      <td>-81.442466</td>\n",
       "      <td>78926</td>\n",
       "      <td>24224</td>\n",
       "      <td>0.306920</td>\n",
       "    </tr>\n",
       "    <tr>\n",
       "      <th>4</th>\n",
       "      <td>Albany Cty</td>\n",
       "      <td>42.748119</td>\n",
       "      <td>-73.802979</td>\n",
       "      <td>287140</td>\n",
       "      <td>108064</td>\n",
       "      <td>0.376346</td>\n",
       "    </tr>\n",
       "  </tbody>\n",
       "</table>\n",
       "</div>"
      ],
      "text/plain": [
       "                 airport        lat        long  totalFlights  \\\n",
       "0       Abilene Regional  32.411320  -99.681897         21202   \n",
       "1                   Adak  51.877964 -176.646031           541   \n",
       "2                 Adams   34.729396  -92.224246        325288   \n",
       "3  Akron-Canton Regional  40.916312  -81.442466         78926   \n",
       "4             Albany Cty  42.748119  -73.802979        287140   \n",
       "\n",
       "   totalDelayedFlights  delayedFlightsPercentage  \n",
       "0                 4188                  0.197529  \n",
       "1                  338                  0.624769  \n",
       "2               107199                  0.329551  \n",
       "3                24224                  0.306920  \n",
       "4               108064                  0.376346  "
      ]
     },
     "execution_count": 20,
     "metadata": {},
     "output_type": "execute_result"
    }
   ],
   "source": [
    "sz['delayedFlightsPercentage'] = np.where(sz['airport']=='Fairbanks International', \n",
    "(sz['totalDelayedFlights']/sz['totalFlights']), sz['totalDelayedFlights'])\n",
    "\n",
    "for airport in airports:\n",
    "    sz['delayedFlightsPercentage'] = np.where(sz['airport']==airport, \n",
    "        (sz['totalDelayedFlights']/sz['totalFlights']), sz['delayedFlightsPercentage'])\n",
    "\n",
    "sz.head(5)"
   ]
  },
  {
   "cell_type": "code",
   "execution_count": 18,
   "metadata": {
    "collapsed": true
   },
   "outputs": [],
   "source": [
    "sz.to_csv('data/delayedFlightsPercentagePerAirport.csv', index=False, header=True, encoding='utf-8')"
   ]
  },
  {
   "cell_type": "code",
   "execution_count": null,
   "metadata": {
    "collapsed": true
   },
   "outputs": [],
   "source": []
  }
 ],
 "metadata": {
  "kernelspec": {
   "display_name": "Python 2",
   "language": "python",
   "name": "python2"
  },
  "language_info": {
   "codemirror_mode": {
    "name": "ipython",
    "version": 2
   },
   "file_extension": ".py",
   "mimetype": "text/x-python",
   "name": "python",
   "nbconvert_exporter": "python",
   "pygments_lexer": "ipython2",
   "version": "2.7.12"
  }
 },
 "nbformat": 4,
 "nbformat_minor": 2
}
